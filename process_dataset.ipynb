{
 "cells": [
  {
   "cell_type": "code",
   "execution_count": 1,
   "id": "e22b868d",
   "metadata": {},
   "outputs": [],
   "source": [
    "import os"
   ]
  },
  {
   "cell_type": "code",
   "execution_count": 6,
   "id": "c609ef5c",
   "metadata": {},
   "outputs": [],
   "source": [
    "base_dirname = \"tmp/dataset\"\n",
    "original_label_dirname = \"labels\"\n",
    "filtered_label_dirname = \"filtered_labels\"\n",
    "car_dirname = \"cars\"\n",
    "bicycle_dirname = \"bicycles\"\n",
    "persons_dirname = \"persons\"\n",
    "\n",
    "for dirname in [\"train\", \"val\", \"test\"]:\n",
    "    os.makedirs(os.path.join(base_dirname, filtered_label_dirname, dirname), exist_ok=True)\n",
    "    os.makedirs(os.path.join(base_dirname, car_dirname, dirname), exist_ok=True)\n",
    "    os.makedirs(os.path.join(base_dirname, bicycle_dirname, dirname), exist_ok=True)\n",
    "    os.makedirs(os.path.join(base_dirname, persons_dirname, dirname), exist_ok=True)\n",
    "\n",
    "    for filename in os.listdir(os.path.join(base_dirname, original_label_dirname, dirname)):\n",
    "        persons = []\n",
    "        cars = []\n",
    "        bicycles = []\n",
    "        all_objects = []\n",
    "        with open(os.path.join(base_dirname, original_label_dirname, dirname, filename), \"r\") as f:\n",
    "            lines = f.readlines()\n",
    "        for line in lines:\n",
    "            if line.startswith(\"0\"):\n",
    "                persons.append(line)\n",
    "                all_objects.append(line)\n",
    "            elif line.startswith(\"1\"):\n",
    "                cars.append(line)\n",
    "                all_objects.append(line)\n",
    "            elif line.startswith(\"2\"):\n",
    "                bicycles.append(line)\n",
    "                all_objects.append(line)\n",
    "        with open(os.path.join(base_dirname, filtered_label_dirname, dirname, filename), \"w\") as f:\n",
    "            for line in all_objects:\n",
    "                f.write(line)\n",
    "        with open(os.path.join(base_dirname, car_dirname, dirname, filename), \"w\") as f:\n",
    "            for line in cars:\n",
    "                f.write(line)\n",
    "        with open(os.path.join(base_dirname, bicycle_dirname, dirname, filename), \"w\") as f:\n",
    "            for line in bicycles:\n",
    "                f.write(line)   \n",
    "        with open(os.path.join(base_dirname, persons_dirname, dirname, filename), \"w\") as f:\n",
    "            for line in persons:\n",
    "                f.write(line)\n",
    "\n",
    "        "
   ]
  }
 ],
 "metadata": {
  "kernelspec": {
   "display_name": "venv",
   "language": "python",
   "name": "python3"
  },
  "language_info": {
   "codemirror_mode": {
    "name": "ipython",
    "version": 3
   },
   "file_extension": ".py",
   "mimetype": "text/x-python",
   "name": "python",
   "nbconvert_exporter": "python",
   "pygments_lexer": "ipython3",
   "version": "3.11.6"
  }
 },
 "nbformat": 4,
 "nbformat_minor": 5
}
