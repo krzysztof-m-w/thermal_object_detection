{
 "cells": [
  {
   "cell_type": "code",
   "execution_count": 1,
   "id": "e22b868d",
   "metadata": {},
   "outputs": [],
   "source": [
    "import os"
   ]
  },
  {
   "cell_type": "code",
   "execution_count": 6,
   "id": "c609ef5c",
   "metadata": {},
   "outputs": [],
   "source": [
    "base_dirname = \"tmp/dataset\"\n",
    "original_label_dirname = \"labels\"\n",
    "filtered_label_dirname = \"filtered_labels\"\n",
    "car_dirname = \"cars\"\n",
    "bicycle_dirname = \"bicycles\"\n",
    "persons_dirname = \"persons\"\n",
    "\n",
    "for dirname in [\"train\", \"val\", \"test\"]:\n",
    "    os.makedirs(os.path.join(base_dirname, filtered_label_dirname, dirname), exist_ok=True)\n",
    "    os.makedirs(os.path.join(base_dirname, car_dirname, dirname), exist_ok=True)\n",
    "    os.makedirs(os.path.join(base_dirname, bicycle_dirname, dirname), exist_ok=True)\n",
    "    os.makedirs(os.path.join(base_dirname, persons_dirname, dirname), exist_ok=True)\n",
    "\n",
    "    for filename in os.listdir(os.path.join(base_dirname, original_label_dirname, dirname)):\n",
    "        persons = []\n",
    "        cars = []\n",
    "        bicycles = []\n",
    "        all_objects = []\n",
    "        with open(os.path.join(base_dirname, original_label_dirname, dirname, filename), \"r\") as f:\n",
    "            lines = f.readlines()\n",
    "        for line in lines:\n",
    "            if line.startswith(\"0\"):\n",
    "                persons.append(line)\n",
    "                all_objects.append(line)\n",
    "            elif line.startswith(\"1\"):\n",
    "                cars.append(line)\n",
    "                all_objects.append(line)\n",
    "            elif line.startswith(\"2\"):\n",
    "                bicycles.append(line)\n",
    "                all_objects.append(line)\n",
    "        with open(os.path.join(base_dirname, filtered_label_dirname, dirname, filename), \"w\") as f:\n",
    "            for line in all_objects:\n",
    "                f.write(line)\n",
    "        with open(os.path.join(base_dirname, car_dirname, dirname, filename), \"w\") as f:\n",
    "            for line in cars:\n",
    "                f.write(line)\n",
    "        with open(os.path.join(base_dirname, bicycle_dirname, dirname, filename), \"w\") as f:\n",
    "            for line in bicycles:\n",
    "                f.write(line)   \n",
    "        with open(os.path.join(base_dirname, persons_dirname, dirname, filename), \"w\") as f:\n",
    "            for line in persons:\n",
    "                f.write(line)\n",
    "\n",
    "        "
   ]
  },
  {
   "cell_type": "code",
   "execution_count": 11,
   "id": "4bb5f2c7",
   "metadata": {},
   "outputs": [],
   "source": [
    "from PIL import Image\n",
    "from PIL import ImageFilter, ImageOps\n",
    "import cv2\n",
    "import numpy as np\n",
    "import matplotlib.pyplot as plt\n",
    "\n",
    "base_dirname = \"tmp/dataset\"\n",
    "original_image_dirname = \"images\"\n",
    "processed_image_dirname = \"sobel_images\"\n",
    "for dirname in [\"train\", \"val\", \"test\"]:\n",
    "    os.makedirs(os.path.join(base_dirname, processed_image_dirname, dirname), exist_ok=True)\n",
    "    for filename in os.listdir(os.path.join(base_dirname, original_image_dirname, dirname)):\n",
    "        image_path = os.path.join(base_dirname, original_image_dirname, dirname, filename)\n",
    "        if image_path.endswith(\".jpg\"):\n",
    "            with Image.open(image_path) as img:\n",
    "                image_data = np.array(img)\n",
    "                sobelx = cv2.Sobel(image_data, cv2.CV_64F, 1, 0, ksize=3)\n",
    "                sobely = cv2.Sobel(image_data, cv2.CV_64F, 0, 1, ksize=3)\n",
    "                sobelx = (sobelx - np.min(sobelx)) / (np.max(sobelx) - np.min(sobelx)) * 255\n",
    "                sobely = (sobely - np.min(sobely)) / (np.max(sobely) - np.min(sobely)) * 255\n",
    "                extended_image = np.stack((image_data, sobelx, sobely), axis=-1)\n",
    "                sobel_image_path = os.path.join(base_dirname, processed_image_dirname, dirname, filename)\n",
    "                plt.imsave(sobel_image_path, extended_image.astype(np.uint8))\n",
    "    \n",
    "                "
   ]
  }
 ],
 "metadata": {
  "kernelspec": {
   "display_name": "venv",
   "language": "python",
   "name": "python3"
  },
  "language_info": {
   "codemirror_mode": {
    "name": "ipython",
    "version": 3
   },
   "file_extension": ".py",
   "mimetype": "text/x-python",
   "name": "python",
   "nbconvert_exporter": "python",
   "pygments_lexer": "ipython3",
   "version": "3.11.6"
  }
 },
 "nbformat": 4,
 "nbformat_minor": 5
}
